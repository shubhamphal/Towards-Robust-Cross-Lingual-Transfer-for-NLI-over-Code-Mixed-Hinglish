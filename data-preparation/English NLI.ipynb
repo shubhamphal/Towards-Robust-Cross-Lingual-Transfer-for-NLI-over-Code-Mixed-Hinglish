{
 "cells": [
  {
   "cell_type": "markdown",
   "id": "e15e8acf",
   "metadata": {},
   "source": [
    "## BART MNLI"
   ]
  },
  {
   "cell_type": "code",
   "execution_count": null,
   "id": "90c0a71f",
   "metadata": {},
   "outputs": [],
   "source": [
    "import torch\n",
    "from transformers import AutoModelForSequenceClassification, AutoTokenizer\n",
    "import pandas as pd\n",
    "from sklearn.metrics import classification_report\n",
    "import numpy as np"
   ]
  },
  {
   "cell_type": "code",
   "execution_count": 27,
   "id": "a4f99a0a",
   "metadata": {},
   "outputs": [],
   "source": [
    "nli_model = AutoModelForSequenceClassification.from_pretrained('facebook/bart-large-mnli')\n",
    "tokenizer = AutoTokenizer.from_pretrained('facebook/bart-large-mnli')"
   ]
  },
  {
   "cell_type": "code",
   "execution_count": 28,
   "id": "ec4d60e6",
   "metadata": {},
   "outputs": [],
   "source": [
    "df = pd.read_csv('cleaned_nli.csv')"
   ]
  },
  {
   "cell_type": "code",
   "execution_count": 32,
   "id": "2b06217e",
   "metadata": {},
   "outputs": [],
   "source": [
    "premises = df['premise'].tolist()\n",
    "hypothesis = df['hypothesis'].tolist()\n",
    "labels = df['labels_encoded'].tolist()"
   ]
  },
  {
   "cell_type": "code",
   "execution_count": 59,
   "id": "bf76a43c",
   "metadata": {},
   "outputs": [],
   "source": [
    "device = 'cuda' if torch.cuda.is_available() else 'cpu'\n",
    "nli_model.to(device)\n",
    "predictions = []\n",
    "for i in range(len(premises)):\n",
    "    encoded_pair = tokenizer.encode(premises[i], hypothesis[i], return_tensors='pt')\n",
    "    logits = nli_model(encoded_pair.to(device))[0]\n",
    "    entail_contradiction_logits = logits[:,[0,2]]\n",
    "    probs = entail_contradiction_logits.softmax(dim=1)\n",
    "    predicted = torch.argmax(probs)\n",
    "    predictions.append(predicted.item())"
   ]
  },
  {
   "cell_type": "code",
   "execution_count": 60,
   "id": "88f40c12",
   "metadata": {},
   "outputs": [],
   "source": [
    "y_pred = np.array(predictions)"
   ]
  },
  {
   "cell_type": "code",
   "execution_count": 61,
   "id": "d78c3341",
   "metadata": {},
   "outputs": [],
   "source": [
    "y_true = np.array(labels)"
   ]
  },
  {
   "cell_type": "code",
   "execution_count": 62,
   "id": "b181258e",
   "metadata": {},
   "outputs": [],
   "source": [
    "target_names = ['entailment','contradiction']"
   ]
  },
  {
   "cell_type": "code",
   "execution_count": 63,
   "id": "9170f354",
   "metadata": {},
   "outputs": [
    {
     "name": "stdout",
     "output_type": "stream",
     "text": [
      "               precision    recall  f1-score   support\n",
      "\n",
      "   entailment       0.40      0.26      0.31       896\n",
      "contradiction       0.45      0.62      0.52       896\n",
      "\n",
      "     accuracy                           0.44      1792\n",
      "    macro avg       0.43      0.44      0.42      1792\n",
      " weighted avg       0.43      0.44      0.42      1792\n",
      "\n"
     ]
    }
   ],
   "source": [
    "print(classification_report(y_true, y_pred, target_names=target_names))"
   ]
  },
  {
   "cell_type": "markdown",
   "id": "d483d5bb",
   "metadata": {},
   "source": [
    "## XLM R"
   ]
  },
  {
   "cell_type": "code",
   "execution_count": null,
   "id": "69dba0ac",
   "metadata": {},
   "outputs": [],
   "source": []
  },
  {
   "cell_type": "code",
   "execution_count": null,
   "id": "c9d50513",
   "metadata": {},
   "outputs": [],
   "source": []
  }
 ],
 "metadata": {
  "kernelspec": {
   "display_name": "Python 3 (ipykernel)",
   "language": "python",
   "name": "python3"
  },
  "language_info": {
   "codemirror_mode": {
    "name": "ipython",
    "version": 3
   },
   "file_extension": ".py",
   "mimetype": "text/x-python",
   "name": "python",
   "nbconvert_exporter": "python",
   "pygments_lexer": "ipython3",
   "version": "3.8.12"
  }
 },
 "nbformat": 4,
 "nbformat_minor": 5
}
