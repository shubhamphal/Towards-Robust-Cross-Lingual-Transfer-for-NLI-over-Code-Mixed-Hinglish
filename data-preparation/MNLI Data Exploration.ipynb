{
 "cells": [
  {
   "cell_type": "code",
   "execution_count": 11,
   "id": "ca9550a6",
   "metadata": {},
   "outputs": [],
   "source": [
    "import pandas as pd\n",
    "import json\n",
    "import numpy as np"
   ]
  },
  {
   "cell_type": "code",
   "execution_count": 2,
   "id": "9358952a",
   "metadata": {},
   "outputs": [],
   "source": [
    "multinli_filename = 'multinli_1.0/multinli_1.0_train.jsonl'\n",
    "with open(multinli_filename) as json_file:\n",
    "    json_list = list(json_file)"
   ]
  },
  {
   "cell_type": "code",
   "execution_count": 3,
   "id": "adcc6164",
   "metadata": {},
   "outputs": [
    {
     "data": {
      "text/plain": [
       "'{\"annotator_labels\": [\"neutral\"], \"genre\": \"government\", \"gold_label\": \"neutral\", \"pairID\": \"31193n\", \"promptID\": \"31193\", \"sentence1\": \"Conceptually cream skimming has two basic dimensions - product and geography.\", \"sentence1_binary_parse\": \"( ( Conceptually ( cream skimming ) ) ( ( has ( ( ( two ( basic dimensions ) ) - ) ( ( product and ) geography ) ) ) . ) )\", \"sentence1_parse\": \"(ROOT (S (NP (JJ Conceptually) (NN cream) (NN skimming)) (VP (VBZ has) (NP (NP (CD two) (JJ basic) (NNS dimensions)) (: -) (NP (NN product) (CC and) (NN geography)))) (. .)))\", \"sentence2\": \"Product and geography are what make cream skimming work. \", \"sentence2_binary_parse\": \"( ( ( Product and ) geography ) ( ( are ( what ( make ( cream ( skimming work ) ) ) ) ) . ) )\", \"sentence2_parse\": \"(ROOT (S (NP (NN Product) (CC and) (NN geography)) (VP (VBP are) (SBAR (WHNP (WP what)) (S (VP (VBP make) (NP (NP (NN cream)) (VP (VBG skimming) (NP (NN work)))))))) (. .)))\"}\\n'"
      ]
     },
     "execution_count": 3,
     "metadata": {},
     "output_type": "execute_result"
    }
   ],
   "source": [
    "json_list[0]"
   ]
  },
  {
   "cell_type": "code",
   "execution_count": 23,
   "id": "3745b29d",
   "metadata": {},
   "outputs": [],
   "source": [
    "def label_encode(text):\n",
    "    if text == 'entailment':\n",
    "        return 0\n",
    "    return 1"
   ]
  },
  {
   "cell_type": "code",
   "execution_count": 4,
   "id": "08e84e0f",
   "metadata": {},
   "outputs": [],
   "source": [
    "labels = []\n",
    "premise = []\n",
    "hypothesis = []\n",
    "genre = []\n",
    "\n",
    "for i in range(len(json_list)):\n",
    "    result = json.loads(json_list[i])\n",
    "    premise.append(result['sentence1'])\n",
    "    hypothesis.append(result['sentence2'])\n",
    "    labels.append(result['gold_label'])\n",
    "    genre.append(result['genre'])"
   ]
  },
  {
   "cell_type": "code",
   "execution_count": 5,
   "id": "becfde5e",
   "metadata": {},
   "outputs": [],
   "source": [
    "df = pd.DataFrame()\n",
    "df['premise']= premise\n",
    "df['hypothesis']= hypothesis\n",
    "df['labels'] = labels\n",
    "df['genre'] = genre"
   ]
  },
  {
   "cell_type": "code",
   "execution_count": 6,
   "id": "cbcf2fd4",
   "metadata": {},
   "outputs": [
    {
     "data": {
      "text/plain": [
       "(392702, 4)"
      ]
     },
     "execution_count": 6,
     "metadata": {},
     "output_type": "execute_result"
    }
   ],
   "source": [
    "df.shape"
   ]
  },
  {
   "cell_type": "code",
   "execution_count": 7,
   "id": "cc1eabb9",
   "metadata": {},
   "outputs": [],
   "source": [
    "df = df[df['labels'] != 'neutral']"
   ]
  },
  {
   "cell_type": "code",
   "execution_count": 8,
   "id": "36bc81bb",
   "metadata": {},
   "outputs": [
    {
     "data": {
      "text/plain": [
       "(261802, 4)"
      ]
     },
     "execution_count": 8,
     "metadata": {},
     "output_type": "execute_result"
    }
   ],
   "source": [
    "df.shape"
   ]
  },
  {
   "cell_type": "code",
   "execution_count": 9,
   "id": "e3771362",
   "metadata": {},
   "outputs": [
    {
     "data": {
      "text/html": [
       "<div>\n",
       "<style scoped>\n",
       "    .dataframe tbody tr th:only-of-type {\n",
       "        vertical-align: middle;\n",
       "    }\n",
       "\n",
       "    .dataframe tbody tr th {\n",
       "        vertical-align: top;\n",
       "    }\n",
       "\n",
       "    .dataframe thead th {\n",
       "        text-align: right;\n",
       "    }\n",
       "</style>\n",
       "<table border=\"1\" class=\"dataframe\">\n",
       "  <thead>\n",
       "    <tr style=\"text-align: right;\">\n",
       "      <th></th>\n",
       "      <th>premise</th>\n",
       "      <th>hypothesis</th>\n",
       "      <th>labels</th>\n",
       "      <th>genre</th>\n",
       "    </tr>\n",
       "  </thead>\n",
       "  <tbody>\n",
       "    <tr>\n",
       "      <th>1</th>\n",
       "      <td>you know during the season and i guess at at y...</td>\n",
       "      <td>You lose the things to the following level if ...</td>\n",
       "      <td>entailment</td>\n",
       "      <td>telephone</td>\n",
       "    </tr>\n",
       "    <tr>\n",
       "      <th>2</th>\n",
       "      <td>One of our number will carry out your instruct...</td>\n",
       "      <td>A member of my team will execute your orders w...</td>\n",
       "      <td>entailment</td>\n",
       "      <td>fiction</td>\n",
       "    </tr>\n",
       "    <tr>\n",
       "      <th>3</th>\n",
       "      <td>How do you know? All this is their information...</td>\n",
       "      <td>This information belongs to them.</td>\n",
       "      <td>entailment</td>\n",
       "      <td>fiction</td>\n",
       "    </tr>\n",
       "    <tr>\n",
       "      <th>5</th>\n",
       "      <td>my walkman broke so i'm upset now i just have ...</td>\n",
       "      <td>I'm upset that my walkman broke and now I have...</td>\n",
       "      <td>entailment</td>\n",
       "      <td>telephone</td>\n",
       "    </tr>\n",
       "    <tr>\n",
       "      <th>7</th>\n",
       "      <td>(Read  for Slate 's take on Jackson's findings.)</td>\n",
       "      <td>Slate had an opinion on Jackson's findings.</td>\n",
       "      <td>entailment</td>\n",
       "      <td>slate</td>\n",
       "    </tr>\n",
       "  </tbody>\n",
       "</table>\n",
       "</div>"
      ],
      "text/plain": [
       "                                             premise  \\\n",
       "1  you know during the season and i guess at at y...   \n",
       "2  One of our number will carry out your instruct...   \n",
       "3  How do you know? All this is their information...   \n",
       "5  my walkman broke so i'm upset now i just have ...   \n",
       "7   (Read  for Slate 's take on Jackson's findings.)   \n",
       "\n",
       "                                          hypothesis      labels      genre  \n",
       "1  You lose the things to the following level if ...  entailment  telephone  \n",
       "2  A member of my team will execute your orders w...  entailment    fiction  \n",
       "3                  This information belongs to them.  entailment    fiction  \n",
       "5  I'm upset that my walkman broke and now I have...  entailment  telephone  \n",
       "7        Slate had an opinion on Jackson's findings.  entailment      slate  "
      ]
     },
     "execution_count": 9,
     "metadata": {},
     "output_type": "execute_result"
    }
   ],
   "source": [
    "df.head()"
   ]
  },
  {
   "cell_type": "code",
   "execution_count": 12,
   "id": "a8ba2bf3",
   "metadata": {},
   "outputs": [
    {
     "data": {
      "text/plain": [
       "array(['fiction', 'government', 'slate', 'telephone', 'travel'],\n",
       "      dtype='<U10')"
      ]
     },
     "execution_count": 12,
     "metadata": {},
     "output_type": "execute_result"
    }
   ],
   "source": [
    "np.unique(df.genre.values.tolist())"
   ]
  },
  {
   "cell_type": "code",
   "execution_count": 24,
   "id": "ddb14abc",
   "metadata": {},
   "outputs": [],
   "source": [
    "df['labels'] = df['labels'].apply(label_encode)"
   ]
  },
  {
   "cell_type": "code",
   "execution_count": 27,
   "id": "c807c315",
   "metadata": {},
   "outputs": [],
   "source": [
    "df.to_csv('mnli_trainonlyset.csv')"
   ]
  },
  {
   "cell_type": "code",
   "execution_count": 37,
   "id": "c94c373f",
   "metadata": {},
   "outputs": [],
   "source": [
    "multinli_test_filename = 'multinli_1.0/multinli_1.0_dev_matched.jsonl'\n",
    "with open(multinli_test_filename) as json_file_test:\n",
    "    json_list_test = list(json_file_test)"
   ]
  },
  {
   "cell_type": "code",
   "execution_count": 38,
   "id": "2576eb51",
   "metadata": {},
   "outputs": [],
   "source": [
    "labels_test = []\n",
    "premise_test = []\n",
    "hypothesis_test = []\n",
    "genre_test = []\n",
    "\n",
    "for i in range(len(json_list_test)):\n",
    "    result = json.loads(json_list_test[i])\n",
    "    premise_test.append(result['sentence1'])\n",
    "    hypothesis_test.append(result['sentence2'])\n",
    "    labels_test.append(result['gold_label'])\n",
    "    genre_test.append(result['genre'])"
   ]
  },
  {
   "cell_type": "code",
   "execution_count": 39,
   "id": "f6e200cb",
   "metadata": {},
   "outputs": [],
   "source": [
    "df_test = pd.DataFrame()\n",
    "df_test['premise']= premise_test\n",
    "df_test['hypothesis']= hypothesis_test\n",
    "df_test['labels'] = labels_test\n",
    "df_test['genre'] = genre_test"
   ]
  },
  {
   "cell_type": "code",
   "execution_count": 40,
   "id": "fd91565c",
   "metadata": {},
   "outputs": [],
   "source": [
    "df_test = df_test[df_test['labels'] != 'neutral']"
   ]
  },
  {
   "cell_type": "code",
   "execution_count": 41,
   "id": "51da81f7",
   "metadata": {},
   "outputs": [],
   "source": [
    "df_test['labels'] = df_test['labels'].apply(label_encode)"
   ]
  },
  {
   "cell_type": "code",
   "execution_count": 43,
   "id": "df99166b",
   "metadata": {},
   "outputs": [],
   "source": [
    "df_test.to_csv('mnli_testonlyset.csv')"
   ]
  },
  {
   "cell_type": "code",
   "execution_count": 44,
   "id": "26c7fb48",
   "metadata": {},
   "outputs": [
    {
     "data": {
      "text/plain": [
       "(6877, 4)"
      ]
     },
     "execution_count": 44,
     "metadata": {},
     "output_type": "execute_result"
    }
   ],
   "source": [
    "df_test.shape"
   ]
  },
  {
   "cell_type": "code",
   "execution_count": 51,
   "id": "beaf0263",
   "metadata": {},
   "outputs": [
    {
     "data": {
      "text/plain": [
       "dtype('O')"
      ]
     },
     "execution_count": 51,
     "metadata": {},
     "output_type": "execute_result"
    }
   ],
   "source": []
  },
  {
   "cell_type": "code",
   "execution_count": null,
   "id": "7c4c29a0",
   "metadata": {},
   "outputs": [],
   "source": []
  }
 ],
 "metadata": {
  "kernelspec": {
   "display_name": "Python 3 (ipykernel)",
   "language": "python",
   "name": "python3"
  },
  "language_info": {
   "codemirror_mode": {
    "name": "ipython",
    "version": 3
   },
   "file_extension": ".py",
   "mimetype": "text/x-python",
   "name": "python",
   "nbconvert_exporter": "python",
   "pygments_lexer": "ipython3",
   "version": "3.8.12"
  }
 },
 "nbformat": 4,
 "nbformat_minor": 5
}
