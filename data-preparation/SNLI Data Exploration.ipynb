{
 "cells": [
  {
   "cell_type": "code",
   "execution_count": 2,
   "id": "c0df4ebc",
   "metadata": {},
   "outputs": [],
   "source": [
    "import pandas as pd\n",
    "import json"
   ]
  },
  {
   "cell_type": "code",
   "execution_count": 4,
   "id": "51c753b2",
   "metadata": {},
   "outputs": [],
   "source": [
    "snli_filename = 'snli_1.0/snli_1.0_train.jsonl'\n",
    "with open(snli_filename) as json_file:\n",
    "    json_list = list(json_file)"
   ]
  },
  {
   "cell_type": "code",
   "execution_count": 5,
   "id": "4201e9da",
   "metadata": {},
   "outputs": [
    {
     "data": {
      "text/plain": [
       "'{\"annotator_labels\": [\"neutral\"], \"captionID\": \"3416050480.jpg#4\", \"gold_label\": \"neutral\", \"pairID\": \"3416050480.jpg#4r1n\", \"sentence1\": \"A person on a horse jumps over a broken down airplane.\", \"sentence1_binary_parse\": \"( ( ( A person ) ( on ( a horse ) ) ) ( ( jumps ( over ( a ( broken ( down airplane ) ) ) ) ) . ) )\", \"sentence1_parse\": \"(ROOT (S (NP (NP (DT A) (NN person)) (PP (IN on) (NP (DT a) (NN horse)))) (VP (VBZ jumps) (PP (IN over) (NP (DT a) (JJ broken) (JJ down) (NN airplane)))) (. .)))\", \"sentence2\": \"A person is training his horse for a competition.\", \"sentence2_binary_parse\": \"( ( A person ) ( ( is ( ( training ( his horse ) ) ( for ( a competition ) ) ) ) . ) )\", \"sentence2_parse\": \"(ROOT (S (NP (DT A) (NN person)) (VP (VBZ is) (VP (VBG training) (NP (PRP$ his) (NN horse)) (PP (IN for) (NP (DT a) (NN competition))))) (. .)))\"}\\n'"
      ]
     },
     "execution_count": 5,
     "metadata": {},
     "output_type": "execute_result"
    }
   ],
   "source": [
    "json_list[0]"
   ]
  },
  {
   "cell_type": "code",
   "execution_count": 6,
   "id": "78cc775e",
   "metadata": {},
   "outputs": [],
   "source": [
    "labels = []\n",
    "premise = []\n",
    "hypothesis = []\n",
    "\n",
    "for i in range(len(json_list)):\n",
    "    result = json.loads(json_list[i])\n",
    "    premise.append(result['sentence1'])\n",
    "    hypothesis.append(result['sentence2'])\n",
    "    labels.append(result['gold_label'])"
   ]
  },
  {
   "cell_type": "code",
   "execution_count": 8,
   "id": "d4a33f44",
   "metadata": {},
   "outputs": [],
   "source": [
    "df = pd.DataFrame()\n",
    "df['premise']= premise\n",
    "df['hypothesis']= hypothesis\n",
    "df['labels'] = labels"
   ]
  },
  {
   "cell_type": "code",
   "execution_count": 10,
   "id": "d3140295",
   "metadata": {},
   "outputs": [
    {
     "data": {
      "text/plain": [
       "(550152, 3)"
      ]
     },
     "execution_count": 10,
     "metadata": {},
     "output_type": "execute_result"
    }
   ],
   "source": [
    "df.shape"
   ]
  },
  {
   "cell_type": "code",
   "execution_count": 11,
   "id": "fe8b3e7f",
   "metadata": {},
   "outputs": [],
   "source": [
    "df = df[df['labels'] != 'neutral']"
   ]
  },
  {
   "cell_type": "code",
   "execution_count": 12,
   "id": "fdbb772c",
   "metadata": {},
   "outputs": [
    {
     "data": {
      "text/plain": [
       "(367388, 3)"
      ]
     },
     "execution_count": 12,
     "metadata": {},
     "output_type": "execute_result"
    }
   ],
   "source": [
    "df.shape"
   ]
  },
  {
   "cell_type": "code",
   "execution_count": null,
   "id": "63f2ed30",
   "metadata": {},
   "outputs": [],
   "source": []
  }
 ],
 "metadata": {
  "kernelspec": {
   "display_name": "Python 3 (ipykernel)",
   "language": "python",
   "name": "python3"
  },
  "language_info": {
   "codemirror_mode": {
    "name": "ipython",
    "version": 3
   },
   "file_extension": ".py",
   "mimetype": "text/x-python",
   "name": "python",
   "nbconvert_exporter": "python",
   "pygments_lexer": "ipython3",
   "version": "3.8.12"
  }
 },
 "nbformat": 4,
 "nbformat_minor": 5
}
