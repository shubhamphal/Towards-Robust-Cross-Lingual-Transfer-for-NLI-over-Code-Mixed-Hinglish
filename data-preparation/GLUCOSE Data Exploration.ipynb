{
 "cells": [
  {
   "cell_type": "code",
   "execution_count": 100,
   "id": "56d278ca",
   "metadata": {},
   "outputs": [],
   "source": [
    "# Importing the Libraries\n",
    "!pip install --quiet googletrans\n",
    "\n",
    "import pandas as pd\n",
    "import numpy as np\n",
    "import matplotlib.pyplot as plt\n",
    "import seaborn as sns\n",
    "from nltk.corpus import stopwords\n",
    "import time\n",
    "from string import punctuation\n",
    "from nltk.util import ngrams\n",
    "from nltk import word_tokenize\n",
    "from collections import Counter\n",
    "from spacy import displacy\n",
    "from tqdm import tqdm\n",
    "import warnings\n",
    "from sklearn.model_selection import train_test_split\n",
    "import re\n",
    "from nltk.tokenize import RegexpTokenizer"
   ]
  },
  {
   "cell_type": "code",
   "execution_count": 101,
   "id": "73387201",
   "metadata": {},
   "outputs": [],
   "source": [
    "def preprocess_text(text,ptype='english'):\n",
    "#     if ptype == 'premise':\n",
    "#         utterances = text.split(\"##\")\n",
    "#         without_speaker = []\n",
    "#         for utterance in utterances:\n",
    "#             if(len(utterance.strip())==0):\n",
    "#                 continue\n",
    "            \n",
    "#             utr_split = utterance.split(\":\")\n",
    "#             if len(utr_split) == 1:\n",
    "#                 without_speaker.append(utr_split[0])\n",
    "#             else:\n",
    "#                 without_speaker.append(utr_split[1])\n",
    "#         result = \" \".join(without_speaker)\n",
    "#     else:\n",
    "#         result = text\n",
    "    text = text.replace(\"##\",' ')\n",
    "    text = text.replace(\":\",' ')\n",
    "    result = text\n",
    "    result = result.lower()\n",
    "    cleanr = re.compile('<.*?>')\n",
    "    result = re.sub(cleanr, '', result)\n",
    "    result=re.sub(r'http\\S+', '',result)\n",
    "    #result = re.sub('[0-9]+', '', result)\n",
    "    \n",
    "    if ptype != 'hindi':\n",
    "        tokenizer = RegexpTokenizer(r'\\w+')\n",
    "        result = tokenizer.tokenize(result)\n",
    "        result = \" \".join(result)\n",
    "    \n",
    "    return result\n",
    "\n",
    "def label_encode(text):\n",
    "    if text == 'entailment':\n",
    "        return 0\n",
    "    return 1"
   ]
  },
  {
   "cell_type": "code",
   "execution_count": 102,
   "id": "7b919935",
   "metadata": {},
   "outputs": [],
   "source": [
    "english_train_raw_df = pd.read_csv(\"data/english_train.csv\")\n",
    "english_test_raw_df = pd.read_csv(\"data/english_test.csv\")"
   ]
  },
  {
   "cell_type": "code",
   "execution_count": 103,
   "id": "0a9aa72e",
   "metadata": {},
   "outputs": [],
   "source": [
    "hindi_train_raw_df = pd.read_csv(\"data/translated_train.csv\")\n",
    "hindi_test_raw_df = pd.read_csv(\"data/translated_test.csv\")"
   ]
  },
  {
   "cell_type": "code",
   "execution_count": 104,
   "id": "4eaca403",
   "metadata": {},
   "outputs": [],
   "source": [
    "df_train = pd.concat([hindi_train_raw_df,english_train_raw_df[['english_premise','english_hypothesis']]],axis=1)\n",
    "df_test = pd.concat([hindi_test_raw_df,english_test_raw_df[['english_premise','english_hypothesis']]],axis=1)"
   ]
  },
  {
   "cell_type": "code",
   "execution_count": 105,
   "id": "096c8193",
   "metadata": {},
   "outputs": [],
   "source": [
    "df_train = df_train.rename(columns={\"translated_premise\": \"hindi_premise\", \"translated_hypothesis\": \"hindi_hypothesis\"}, errors=\"raise\")\n",
    "df_test = df_test.rename(columns={\"translated_premise\": \"hindi_premise\", \"translated_hypothesis\": \"hindi_hypothesis\"}, errors=\"raise\")"
   ]
  },
  {
   "cell_type": "code",
   "execution_count": 106,
   "id": "191c3cf3",
   "metadata": {},
   "outputs": [],
   "source": [
    "df_test.drop(columns=['Unnamed: 0'],inplace=True)\n",
    "df_train.drop(columns=['Unnamed: 0'],inplace=True)"
   ]
  },
  {
   "cell_type": "code",
   "execution_count": 107,
   "id": "0e31d1d7",
   "metadata": {},
   "outputs": [
    {
     "data": {
      "text/html": [
       "<div>\n",
       "<style scoped>\n",
       "    .dataframe tbody tr th:only-of-type {\n",
       "        vertical-align: middle;\n",
       "    }\n",
       "\n",
       "    .dataframe tbody tr th {\n",
       "        vertical-align: top;\n",
       "    }\n",
       "\n",
       "    .dataframe thead th {\n",
       "        text-align: right;\n",
       "    }\n",
       "</style>\n",
       "<table border=\"1\" class=\"dataframe\">\n",
       "  <thead>\n",
       "    <tr style=\"text-align: right;\">\n",
       "      <th></th>\n",
       "      <th>premise</th>\n",
       "      <th>hypothesis</th>\n",
       "      <th>labels</th>\n",
       "      <th>hindi_premise</th>\n",
       "      <th>hindi_hypothesis</th>\n",
       "      <th>english_premise</th>\n",
       "      <th>english_hypothesis</th>\n",
       "    </tr>\n",
       "  </thead>\n",
       "  <tbody>\n",
       "    <tr>\n",
       "      <th>0</th>\n",
       "      <td>RANI : Woh Chaddha uncle keh rahein the ki mai...</td>\n",
       "      <td>RANI ka job karna mummy ko theek nahi lagega</td>\n",
       "      <td>entailment</td>\n",
       "      <td>रानी: वो चड्ढा अंकल कह रहे हैं की मैं उनके वहा...</td>\n",
       "      <td>रानी का जॉब करना मम्मी को ठीक नहीं लगेगा</td>\n",
       "      <td>Rani: That Chaddha uncle is saying that I shou...</td>\n",
       "      <td>Mummy will not like to do queen's job</td>\n",
       "    </tr>\n",
       "    <tr>\n",
       "      <th>1</th>\n",
       "      <td>BAUJI : Arre yeh chutney chakho .. ## MOTHER :...</td>\n",
       "      <td>Mom ro rahi hai</td>\n",
       "      <td>entailment</td>\n",
       "      <td>बाउजी : अरे ये चटनी चाखो.. ## मां: नहीं नहीं ह...</td>\n",
       "      <td>माँ रो रही है</td>\n",
       "      <td>Bauji: Hey taste this chutney.. ## Mother: No,...</td>\n",
       "      <td>mom is crying</td>\n",
       "    </tr>\n",
       "    <tr>\n",
       "      <th>2</th>\n",
       "      <td>SARA : Mei n t oh rah oon gi na hin , l eki n ...</td>\n",
       "      <td>DEEPAK ko bhi aisa feel ho raha hai ki ek aur ...</td>\n",
       "      <td>entailment</td>\n",
       "      <td>सारा : मेई एन टी ओह रहूं गी न हिन, ल एक न तुम्...</td>\n",
       "      <td>दीपक को भी ऐसा महसूस होता है कि एक और नामांकित...</td>\n",
       "      <td>Sara: Mei nt oh rahoon gi na hin, it would hav...</td>\n",
       "      <td>Deepak too feels that it would have been bette...</td>\n",
       "    </tr>\n",
       "    <tr>\n",
       "      <th>3</th>\n",
       "      <td>SHAHID : Nahin kiya . ## RAJESH : Ruthe ho ? #...</td>\n",
       "      <td>RAJESH ne SHAHID se kaha ki tum Prachand murkh...</td>\n",
       "      <td>entailment</td>\n",
       "      <td>शाहिद: ​​नहीं किया। ## राजेश : रूठे हो? ## शाह...</td>\n",
       "      <td>राजेश ने शाहिद से कहा की तुम प्रचंड मुड़ नहीं हो।</td>\n",
       "      <td>Shahid: Didn't. ## Rajesh: Are you angry? ## S...</td>\n",
       "      <td>Rajesh told Shahid that you are not very twisted.</td>\n",
       "    </tr>\n",
       "    <tr>\n",
       "      <th>4</th>\n",
       "      <td>KHALUJAN : Babban ..? ## BABBAN : Haan ! Poore...</td>\n",
       "      <td>KHALUJAN ne kidnapping karwaai hai</td>\n",
       "      <td>entailment</td>\n",
       "      <td>खलुजान : बब्बन..? ## बब्बन : हां ! पूरे प्लान ...</td>\n",
       "      <td>खालजान ने अपहरण करवाई है</td>\n",
       "      <td>Khalujan: Babban..? ## Babban: Yes! You are bu...</td>\n",
       "      <td>Khaljan has kidnapped</td>\n",
       "    </tr>\n",
       "  </tbody>\n",
       "</table>\n",
       "</div>"
      ],
      "text/plain": [
       "                                             premise  \\\n",
       "0  RANI : Woh Chaddha uncle keh rahein the ki mai...   \n",
       "1  BAUJI : Arre yeh chutney chakho .. ## MOTHER :...   \n",
       "2  SARA : Mei n t oh rah oon gi na hin , l eki n ...   \n",
       "3  SHAHID : Nahin kiya . ## RAJESH : Ruthe ho ? #...   \n",
       "4  KHALUJAN : Babban ..? ## BABBAN : Haan ! Poore...   \n",
       "\n",
       "                                          hypothesis      labels  \\\n",
       "0       RANI ka job karna mummy ko theek nahi lagega  entailment   \n",
       "1                                    Mom ro rahi hai  entailment   \n",
       "2  DEEPAK ko bhi aisa feel ho raha hai ki ek aur ...  entailment   \n",
       "3  RAJESH ne SHAHID se kaha ki tum Prachand murkh...  entailment   \n",
       "4                 KHALUJAN ne kidnapping karwaai hai  entailment   \n",
       "\n",
       "                                       hindi_premise  \\\n",
       "0  रानी: वो चड्ढा अंकल कह रहे हैं की मैं उनके वहा...   \n",
       "1  बाउजी : अरे ये चटनी चाखो.. ## मां: नहीं नहीं ह...   \n",
       "2  सारा : मेई एन टी ओह रहूं गी न हिन, ल एक न तुम्...   \n",
       "3  शाहिद: ​​नहीं किया। ## राजेश : रूठे हो? ## शाह...   \n",
       "4  खलुजान : बब्बन..? ## बब्बन : हां ! पूरे प्लान ...   \n",
       "\n",
       "                                    hindi_hypothesis  \\\n",
       "0           रानी का जॉब करना मम्मी को ठीक नहीं लगेगा   \n",
       "1                                      माँ रो रही है   \n",
       "2  दीपक को भी ऐसा महसूस होता है कि एक और नामांकित...   \n",
       "3  राजेश ने शाहिद से कहा की तुम प्रचंड मुड़ नहीं हो।   \n",
       "4                           खालजान ने अपहरण करवाई है   \n",
       "\n",
       "                                     english_premise  \\\n",
       "0  Rani: That Chaddha uncle is saying that I shou...   \n",
       "1  Bauji: Hey taste this chutney.. ## Mother: No,...   \n",
       "2  Sara: Mei nt oh rahoon gi na hin, it would hav...   \n",
       "3  Shahid: Didn't. ## Rajesh: Are you angry? ## S...   \n",
       "4  Khalujan: Babban..? ## Babban: Yes! You are bu...   \n",
       "\n",
       "                                  english_hypothesis  \n",
       "0              Mummy will not like to do queen's job  \n",
       "1                                      mom is crying  \n",
       "2  Deepak too feels that it would have been bette...  \n",
       "3  Rajesh told Shahid that you are not very twisted.  \n",
       "4                              Khaljan has kidnapped  "
      ]
     },
     "execution_count": 107,
     "metadata": {},
     "output_type": "execute_result"
    }
   ],
   "source": [
    "df_test.head()"
   ]
  },
  {
   "cell_type": "code",
   "execution_count": 108,
   "id": "a87151b4",
   "metadata": {},
   "outputs": [],
   "source": [
    "combined_df = pd.concat([df_test,df_train],ignore_index=True)"
   ]
  },
  {
   "cell_type": "code",
   "execution_count": 109,
   "id": "6e3dc55a",
   "metadata": {},
   "outputs": [],
   "source": [
    "#['premise','hypothesis','hindi_premise','hindi_hypothesis','english_premise','english_hypothesis']\n",
    "combined_df['premise'] = combined_df['premise'].apply(lambda x: preprocess_text(x))\n",
    "combined_df['hypothesis'] = combined_df['hypothesis'].apply(lambda x: preprocess_text(x))\n",
    "combined_df['hindi_premise'] = combined_df['hindi_premise'].apply(lambda x: preprocess_text(x,'hindi'))\n",
    "combined_df['hindi_hypothesis'] = combined_df['hindi_hypothesis'].apply(lambda x: preprocess_text(x,'hindi'))\n",
    "combined_df['english_premise'] = combined_df['english_premise'].apply(lambda x: preprocess_text(x))\n",
    "combined_df['english_hypothesis'] = combined_df['english_hypothesis'].apply(lambda x: preprocess_text(x))"
   ]
  },
  {
   "cell_type": "code",
   "execution_count": 110,
   "id": "e24706f7",
   "metadata": {},
   "outputs": [],
   "source": [
    "combined_df['labels'] = combined_df['labels'].apply(label_encode)"
   ]
  },
  {
   "cell_type": "code",
   "execution_count": 111,
   "id": "d450cb43",
   "metadata": {},
   "outputs": [],
   "source": [
    "df_train, df_test = train_test_split(\n",
    "    combined_df,\n",
    "    test_size = 0.2,\n",
    "    random_state = 0\n",
    "    )"
   ]
  },
  {
   "cell_type": "code",
   "execution_count": 112,
   "id": "70b1dff2",
   "metadata": {},
   "outputs": [
    {
     "data": {
      "text/plain": [
       "(1791, 7)"
      ]
     },
     "execution_count": 112,
     "metadata": {},
     "output_type": "execute_result"
    }
   ],
   "source": [
    "df_train.shape"
   ]
  },
  {
   "cell_type": "code",
   "execution_count": 113,
   "id": "9c056797",
   "metadata": {},
   "outputs": [
    {
     "data": {
      "text/plain": [
       "(448, 7)"
      ]
     },
     "execution_count": 113,
     "metadata": {},
     "output_type": "execute_result"
    }
   ],
   "source": [
    "df_test.shape"
   ]
  },
  {
   "cell_type": "code",
   "execution_count": 95,
   "id": "74f2cd8b",
   "metadata": {},
   "outputs": [
    {
     "data": {
      "text/html": [
       "<div>\n",
       "<style scoped>\n",
       "    .dataframe tbody tr th:only-of-type {\n",
       "        vertical-align: middle;\n",
       "    }\n",
       "\n",
       "    .dataframe tbody tr th {\n",
       "        vertical-align: top;\n",
       "    }\n",
       "\n",
       "    .dataframe thead th {\n",
       "        text-align: right;\n",
       "    }\n",
       "</style>\n",
       "<table border=\"1\" class=\"dataframe\">\n",
       "  <thead>\n",
       "    <tr style=\"text-align: right;\">\n",
       "      <th></th>\n",
       "      <th>premise</th>\n",
       "      <th>hypothesis</th>\n",
       "      <th>labels</th>\n",
       "      <th>hindi_premise</th>\n",
       "      <th>hindi_hypothesis</th>\n",
       "      <th>english_premise</th>\n",
       "      <th>english_hypothesis</th>\n",
       "    </tr>\n",
       "  </thead>\n",
       "  <tbody>\n",
       "    <tr>\n",
       "      <th>0</th>\n",
       "      <td>rani woh chaddha uncle keh rahein the ki main ...</td>\n",
       "      <td>rani ka job karna mummy ko theek nahi lagega</td>\n",
       "      <td>0</td>\n",
       "      <td>रानी  वो चड्ढा अंकल कह रहे हैं की मैं उनके वहा...</td>\n",
       "      <td>रानी का जॉब करना मम्मी को ठीक नहीं लगेगा</td>\n",
       "      <td>rani that chaddha uncle is saying that i shoul...</td>\n",
       "      <td>mummy will not like to do queen s job</td>\n",
       "    </tr>\n",
       "    <tr>\n",
       "      <th>1</th>\n",
       "      <td>bauji arre yeh chutney chakho mother nahi nahi...</td>\n",
       "      <td>mom ro rahi hai</td>\n",
       "      <td>0</td>\n",
       "      <td>बाउजी   अरे ये चटनी चाखो..   मां  नहीं नहीं हम...</td>\n",
       "      <td>माँ रो रही है</td>\n",
       "      <td>bauji hey taste this chutney mother no we don ...</td>\n",
       "      <td>mom is crying</td>\n",
       "    </tr>\n",
       "    <tr>\n",
       "      <th>2</th>\n",
       "      <td>sara mei n t oh rah oon gi na hin l eki n tumh...</td>\n",
       "      <td>deepak ko bhi aisa feel ho raha hai ki ek aur ...</td>\n",
       "      <td>0</td>\n",
       "      <td>सारा   मेई एन टी ओह रहूं गी न हिन, ल एक न तुम्...</td>\n",
       "      <td>दीपक को भी ऐसा महसूस होता है कि एक और नामांकित...</td>\n",
       "      <td>sara mei nt oh rahoon gi na hin it would have ...</td>\n",
       "      <td>deepak too feels that it would have been bette...</td>\n",
       "    </tr>\n",
       "    <tr>\n",
       "      <th>3</th>\n",
       "      <td>shahid nahin kiya rajesh ruthe ho shahid nahin...</td>\n",
       "      <td>rajesh ne shahid se kaha ki tum prachand murkh...</td>\n",
       "      <td>0</td>\n",
       "      <td>शाहिद  ​​नहीं किया।   राजेश   रूठे हो?   शाहिद...</td>\n",
       "      <td>राजेश ने शाहिद से कहा की तुम प्रचंड मुड़ नहीं हो।</td>\n",
       "      <td>shahid didn t rajesh are you angry shahid no r...</td>\n",
       "      <td>rajesh told shahid that you are not very twisted</td>\n",
       "    </tr>\n",
       "    <tr>\n",
       "      <th>4</th>\n",
       "      <td>khalujan babban babban haan poore plan ki ammi...</td>\n",
       "      <td>khalujan ne kidnapping karwaai hai</td>\n",
       "      <td>0</td>\n",
       "      <td>खलुजान   बब्बन..?   बब्बन   हां ! पूरे प्लान क...</td>\n",
       "      <td>खालजान ने अपहरण करवाई है</td>\n",
       "      <td>khalujan babban babban yes you are busy doing ...</td>\n",
       "      <td>khaljan has kidnapped</td>\n",
       "    </tr>\n",
       "  </tbody>\n",
       "</table>\n",
       "</div>"
      ],
      "text/plain": [
       "                                             premise  \\\n",
       "0  rani woh chaddha uncle keh rahein the ki main ...   \n",
       "1  bauji arre yeh chutney chakho mother nahi nahi...   \n",
       "2  sara mei n t oh rah oon gi na hin l eki n tumh...   \n",
       "3  shahid nahin kiya rajesh ruthe ho shahid nahin...   \n",
       "4  khalujan babban babban haan poore plan ki ammi...   \n",
       "\n",
       "                                          hypothesis  labels  \\\n",
       "0       rani ka job karna mummy ko theek nahi lagega       0   \n",
       "1                                    mom ro rahi hai       0   \n",
       "2  deepak ko bhi aisa feel ho raha hai ki ek aur ...       0   \n",
       "3  rajesh ne shahid se kaha ki tum prachand murkh...       0   \n",
       "4                 khalujan ne kidnapping karwaai hai       0   \n",
       "\n",
       "                                       hindi_premise  \\\n",
       "0  रानी  वो चड्ढा अंकल कह रहे हैं की मैं उनके वहा...   \n",
       "1  बाउजी   अरे ये चटनी चाखो..   मां  नहीं नहीं हम...   \n",
       "2  सारा   मेई एन टी ओह रहूं गी न हिन, ल एक न तुम्...   \n",
       "3  शाहिद  ​​नहीं किया।   राजेश   रूठे हो?   शाहिद...   \n",
       "4  खलुजान   बब्बन..?   बब्बन   हां ! पूरे प्लान क...   \n",
       "\n",
       "                                    hindi_hypothesis  \\\n",
       "0           रानी का जॉब करना मम्मी को ठीक नहीं लगेगा   \n",
       "1                                      माँ रो रही है   \n",
       "2  दीपक को भी ऐसा महसूस होता है कि एक और नामांकित...   \n",
       "3  राजेश ने शाहिद से कहा की तुम प्रचंड मुड़ नहीं हो।   \n",
       "4                           खालजान ने अपहरण करवाई है   \n",
       "\n",
       "                                     english_premise  \\\n",
       "0  rani that chaddha uncle is saying that i shoul...   \n",
       "1  bauji hey taste this chutney mother no we don ...   \n",
       "2  sara mei nt oh rahoon gi na hin it would have ...   \n",
       "3  shahid didn t rajesh are you angry shahid no r...   \n",
       "4  khalujan babban babban yes you are busy doing ...   \n",
       "\n",
       "                                  english_hypothesis  \n",
       "0              mummy will not like to do queen s job  \n",
       "1                                      mom is crying  \n",
       "2  deepak too feels that it would have been bette...  \n",
       "3   rajesh told shahid that you are not very twisted  \n",
       "4                              khaljan has kidnapped  "
      ]
     },
     "execution_count": 95,
     "metadata": {},
     "output_type": "execute_result"
    }
   ],
   "source": [
    "combined_df.head()"
   ]
  },
  {
   "cell_type": "code",
   "execution_count": 114,
   "id": "b80cbe0d",
   "metadata": {},
   "outputs": [],
   "source": [
    "df_train.to_csv('data/train.csv')\n",
    "df_test.to_csv('data/test.csv')"
   ]
  },
  {
   "cell_type": "code",
   "execution_count": null,
   "id": "0bec15a3",
   "metadata": {},
   "outputs": [],
   "source": []
  },
  {
   "cell_type": "code",
   "execution_count": null,
   "id": "d7b3f747",
   "metadata": {},
   "outputs": [],
   "source": []
  },
  {
   "cell_type": "code",
   "execution_count": null,
   "id": "a9622a3d",
   "metadata": {},
   "outputs": [],
   "source": []
  },
  {
   "cell_type": "code",
   "execution_count": null,
   "id": "da188376",
   "metadata": {},
   "outputs": [],
   "source": []
  },
  {
   "cell_type": "code",
   "execution_count": null,
   "id": "ac2ccbfe",
   "metadata": {},
   "outputs": [],
   "source": []
  },
  {
   "cell_type": "code",
   "execution_count": null,
   "id": "b2dc85dc",
   "metadata": {},
   "outputs": [],
   "source": []
  },
  {
   "cell_type": "code",
   "execution_count": null,
   "id": "07ae4c26",
   "metadata": {},
   "outputs": [],
   "source": []
  },
  {
   "cell_type": "code",
   "execution_count": null,
   "id": "635dc0f2",
   "metadata": {},
   "outputs": [],
   "source": []
  },
  {
   "cell_type": "code",
   "execution_count": null,
   "id": "d2183e46",
   "metadata": {},
   "outputs": [],
   "source": []
  },
  {
   "cell_type": "code",
   "execution_count": null,
   "id": "f094a95c",
   "metadata": {},
   "outputs": [],
   "source": []
  },
  {
   "cell_type": "code",
   "execution_count": 19,
   "id": "02d00a22",
   "metadata": {},
   "outputs": [],
   "source": [
    "combined_df['premise'] = combined_df['english_premise']\n",
    "combined_df['hypothesis'] = combined_df['english_hypothesis']"
   ]
  },
  {
   "cell_type": "code",
   "execution_count": 20,
   "id": "6e780e42",
   "metadata": {},
   "outputs": [],
   "source": [
    "combined_df = combined_df.sample(frac=1).reset_index(drop=True)"
   ]
  },
  {
   "cell_type": "code",
   "execution_count": 21,
   "id": "60c45e5b",
   "metadata": {},
   "outputs": [],
   "source": [
    "combined_df['labels'] = combined_df['labels'].apply(label_encode)"
   ]
  },
  {
   "cell_type": "code",
   "execution_count": 22,
   "id": "b05d5039",
   "metadata": {},
   "outputs": [
    {
     "data": {
      "text/html": [
       "<div>\n",
       "<style scoped>\n",
       "    .dataframe tbody tr th:only-of-type {\n",
       "        vertical-align: middle;\n",
       "    }\n",
       "\n",
       "    .dataframe tbody tr th {\n",
       "        vertical-align: top;\n",
       "    }\n",
       "\n",
       "    .dataframe thead th {\n",
       "        text-align: right;\n",
       "    }\n",
       "</style>\n",
       "<table border=\"1\" class=\"dataframe\">\n",
       "  <thead>\n",
       "    <tr style=\"text-align: right;\">\n",
       "      <th></th>\n",
       "      <th>Unnamed: 0</th>\n",
       "      <th>premise</th>\n",
       "      <th>hypothesis</th>\n",
       "      <th>labels</th>\n",
       "      <th>english_premise</th>\n",
       "      <th>english_hypothesis</th>\n",
       "    </tr>\n",
       "  </thead>\n",
       "  <tbody>\n",
       "    <tr>\n",
       "      <th>0</th>\n",
       "      <td>1253</td>\n",
       "      <td>Mr. Kapoor: What is this? ## Mr. Kapoor: Swimm...</td>\n",
       "      <td>Mr. Kapoor's company is doing research on micr...</td>\n",
       "      <td>1</td>\n",
       "      <td>Mr. Kapoor: What is this? ## Mr. Kapoor: Swimm...</td>\n",
       "      <td>Mr. Kapoor's company is doing research on micr...</td>\n",
       "    </tr>\n",
       "    <tr>\n",
       "      <th>1</th>\n",
       "      <td>1386</td>\n",
       "      <td>Mother: Arjun, I felt that you were not seriou...</td>\n",
       "      <td>Mother said that Arjun wanted to do something ...</td>\n",
       "      <td>1</td>\n",
       "      <td>Mother: Arjun, I felt that you were not seriou...</td>\n",
       "      <td>Mother said that Arjun wanted to do something ...</td>\n",
       "    </tr>\n",
       "    <tr>\n",
       "      <th>2</th>\n",
       "      <td>1679</td>\n",
       "      <td>Umar : Wait… why am I running… do I also belly...</td>\n",
       "      <td>OMAR is from England</td>\n",
       "      <td>0</td>\n",
       "      <td>Umar : Wait… why am I running… do I also belly...</td>\n",
       "      <td>OMAR is from England</td>\n",
       "    </tr>\n",
       "    <tr>\n",
       "      <th>3</th>\n",
       "      <td>1756</td>\n",
       "      <td>Shahid: Sorry, I'm late again. ## Mary: Heard ...</td>\n",
       "      <td>Shahid is serving food</td>\n",
       "      <td>1</td>\n",
       "      <td>Shahid: Sorry, I'm late again. ## Mary: Heard ...</td>\n",
       "      <td>Shahid is serving food</td>\n",
       "    </tr>\n",
       "    <tr>\n",
       "      <th>4</th>\n",
       "      <td>1518</td>\n",
       "      <td>Ishaan: Won.. Yeh lo saloon.. End aah!! INDUST...</td>\n",
       "      <td>Ishaan misses Baka a lot.</td>\n",
       "      <td>0</td>\n",
       "      <td>Ishaan: Won.. Yeh lo saloon.. End aah!! INDUST...</td>\n",
       "      <td>Ishaan misses Baka a lot.</td>\n",
       "    </tr>\n",
       "  </tbody>\n",
       "</table>\n",
       "</div>"
      ],
      "text/plain": [
       "   Unnamed: 0                                            premise  \\\n",
       "0        1253  Mr. Kapoor: What is this? ## Mr. Kapoor: Swimm...   \n",
       "1        1386  Mother: Arjun, I felt that you were not seriou...   \n",
       "2        1679  Umar : Wait… why am I running… do I also belly...   \n",
       "3        1756  Shahid: Sorry, I'm late again. ## Mary: Heard ...   \n",
       "4        1518  Ishaan: Won.. Yeh lo saloon.. End aah!! INDUST...   \n",
       "\n",
       "                                          hypothesis  labels  \\\n",
       "0  Mr. Kapoor's company is doing research on micr...       1   \n",
       "1  Mother said that Arjun wanted to do something ...       1   \n",
       "2                               OMAR is from England       0   \n",
       "3                             Shahid is serving food       1   \n",
       "4                          Ishaan misses Baka a lot.       0   \n",
       "\n",
       "                                     english_premise  \\\n",
       "0  Mr. Kapoor: What is this? ## Mr. Kapoor: Swimm...   \n",
       "1  Mother: Arjun, I felt that you were not seriou...   \n",
       "2  Umar : Wait… why am I running… do I also belly...   \n",
       "3  Shahid: Sorry, I'm late again. ## Mary: Heard ...   \n",
       "4  Ishaan: Won.. Yeh lo saloon.. End aah!! INDUST...   \n",
       "\n",
       "                                  english_hypothesis  \n",
       "0  Mr. Kapoor's company is doing research on micr...  \n",
       "1  Mother said that Arjun wanted to do something ...  \n",
       "2                               OMAR is from England  \n",
       "3                             Shahid is serving food  \n",
       "4                          Ishaan misses Baka a lot.  "
      ]
     },
     "execution_count": 22,
     "metadata": {},
     "output_type": "execute_result"
    }
   ],
   "source": [
    "combined_df.head()"
   ]
  },
  {
   "cell_type": "code",
   "execution_count": 23,
   "id": "809c0bc3",
   "metadata": {},
   "outputs": [],
   "source": [
    "df_train, df_test = train_test_split(\n",
    "    combined_df,\n",
    "    test_size = 0.2,\n",
    "    random_state = 0\n",
    "    )"
   ]
  },
  {
   "cell_type": "code",
   "execution_count": 24,
   "id": "edc92fd3",
   "metadata": {},
   "outputs": [
    {
     "data": {
      "text/plain": [
       "(739, 6)"
      ]
     },
     "execution_count": 24,
     "metadata": {},
     "output_type": "execute_result"
    }
   ],
   "source": [
    "df_train[df_train['labels'] == 1].shape"
   ]
  },
  {
   "cell_type": "code",
   "execution_count": 25,
   "id": "fea534d0",
   "metadata": {},
   "outputs": [],
   "source": [
    "df_train.drop(columns=['Unnamed: 0'],inplace=True)\n",
    "df_test.drop(columns=['Unnamed: 0'],inplace=True)"
   ]
  },
  {
   "cell_type": "code",
   "execution_count": 26,
   "id": "1aca78b7",
   "metadata": {},
   "outputs": [],
   "source": [
    "df_train.to_csv('combined_english_train.csv')\n",
    "df_test.to_csv('combined_english_test.csv')"
   ]
  },
  {
   "cell_type": "code",
   "execution_count": 99,
   "id": "0c256b07",
   "metadata": {},
   "outputs": [],
   "source": [
    "# train_raw_df['premise'] = train_raw_df['premise'].apply(preprocess_text)\n",
    "# test_raw_df['premise'] = test_raw_df['premise'].apply(preprocess_text)\n",
    "# train_raw_df['hypothesis'] = train_raw_df['hypothesis'].apply(lambda x: preprocess_text(x,'hypothesis'))\n",
    "# test_raw_df['hypothesis'] = test_raw_df['hypothesis'].apply(lambda x: preprocess_text(x,'hypothesis'))"
   ]
  },
  {
   "cell_type": "code",
   "execution_count": 100,
   "id": "dd43a832",
   "metadata": {},
   "outputs": [],
   "source": [
    "train_raw_df.drop(columns=['Unnamed: 0'],inplace=True)\n",
    "test_raw_df.drop(columns=['Unnamed: 0'],inplace=True)"
   ]
  },
  {
   "cell_type": "code",
   "execution_count": 102,
   "id": "7527e2b4",
   "metadata": {},
   "outputs": [],
   "source": [
    "train_raw_df.to_csv('train.csv')\n",
    "test_raw_df.to_csv('test.csv')"
   ]
  },
  {
   "cell_type": "code",
   "execution_count": 67,
   "id": "2518d5a3",
   "metadata": {},
   "outputs": [],
   "source": [
    "df = pd.read_csv('combined_hinglish_train.csv')"
   ]
  }
 ],
 "metadata": {
  "kernelspec": {
   "display_name": "Python 3 (ipykernel)",
   "language": "python",
   "name": "python3"
  },
  "language_info": {
   "codemirror_mode": {
    "name": "ipython",
    "version": 3
   },
   "file_extension": ".py",
   "mimetype": "text/x-python",
   "name": "python",
   "nbconvert_exporter": "python",
   "pygments_lexer": "ipython3",
   "version": "3.8.12"
  }
 },
 "nbformat": 4,
 "nbformat_minor": 5
}
